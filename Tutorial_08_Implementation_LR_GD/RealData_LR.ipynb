{
 "cells": [
  {
   "cell_type": "markdown",
   "id": "2c70d5a1-568f-4a2e-ac31-fae0e78f450e",
   "metadata": {},
   "source": [
    "# Lineare Regression mit realen Daten"
   ]
  },
  {
   "cell_type": "code",
   "execution_count": 1,
   "id": "66c2e093-0dbc-4165-ad8c-4d159aa15505",
   "metadata": {},
   "outputs": [],
   "source": [
    "import pandas as pd\n",
    "import matplotlib.pyplot as plt\n",
    "import seaborn as sns\n",
    "import numpy as np\n",
    "\n",
    "from sklearn.preprocessing import MinMaxScaler\n",
    "from sklearn.linear_model import LinearRegression\n",
    "from sklearn.model_selection import KFold"
   ]
  },
  {
   "cell_type": "markdown",
   "id": "0c75b6a1-892f-4004-a68f-97890783bd1d",
   "metadata": {},
   "source": [
    "## Schritt 1: Daten sammeln (hier einlesen)"
   ]
  },
  {
   "cell_type": "code",
   "execution_count": 2,
   "id": "efb467df-69ee-42bb-bc14-d9f8afed9736",
   "metadata": {},
   "outputs": [],
   "source": [
    "data=pd.read_csv(\"car_data.csv\")"
   ]
  },
  {
   "cell_type": "code",
   "execution_count": 3,
   "id": "8b3f5f8e-dfe0-4e06-9337-19939ad24f63",
   "metadata": {},
   "outputs": [
    {
     "data": {
      "text/html": [
       "<div>\n",
       "<style scoped>\n",
       "    .dataframe tbody tr th:only-of-type {\n",
       "        vertical-align: middle;\n",
       "    }\n",
       "\n",
       "    .dataframe tbody tr th {\n",
       "        vertical-align: top;\n",
       "    }\n",
       "\n",
       "    .dataframe thead th {\n",
       "        text-align: right;\n",
       "    }\n",
       "</style>\n",
       "<table border=\"1\" class=\"dataframe\">\n",
       "  <thead>\n",
       "    <tr style=\"text-align: right;\">\n",
       "      <th></th>\n",
       "      <th>name</th>\n",
       "      <th>year</th>\n",
       "      <th>selling_price</th>\n",
       "      <th>km_driven</th>\n",
       "      <th>fuel</th>\n",
       "      <th>seller_type</th>\n",
       "      <th>transmission</th>\n",
       "      <th>owner</th>\n",
       "    </tr>\n",
       "  </thead>\n",
       "  <tbody>\n",
       "    <tr>\n",
       "      <th>0</th>\n",
       "      <td>Maruti 800 AC</td>\n",
       "      <td>2007</td>\n",
       "      <td>60000</td>\n",
       "      <td>70000</td>\n",
       "      <td>Petrol</td>\n",
       "      <td>Individual</td>\n",
       "      <td>Manual</td>\n",
       "      <td>First Owner</td>\n",
       "    </tr>\n",
       "    <tr>\n",
       "      <th>1</th>\n",
       "      <td>Maruti Wagon R LXI Minor</td>\n",
       "      <td>2007</td>\n",
       "      <td>135000</td>\n",
       "      <td>50000</td>\n",
       "      <td>Petrol</td>\n",
       "      <td>Individual</td>\n",
       "      <td>Manual</td>\n",
       "      <td>First Owner</td>\n",
       "    </tr>\n",
       "    <tr>\n",
       "      <th>2</th>\n",
       "      <td>Hyundai Verna 1.6 SX</td>\n",
       "      <td>2012</td>\n",
       "      <td>600000</td>\n",
       "      <td>100000</td>\n",
       "      <td>Diesel</td>\n",
       "      <td>Individual</td>\n",
       "      <td>Manual</td>\n",
       "      <td>First Owner</td>\n",
       "    </tr>\n",
       "    <tr>\n",
       "      <th>3</th>\n",
       "      <td>Datsun RediGO T Option</td>\n",
       "      <td>2017</td>\n",
       "      <td>250000</td>\n",
       "      <td>46000</td>\n",
       "      <td>Petrol</td>\n",
       "      <td>Individual</td>\n",
       "      <td>Manual</td>\n",
       "      <td>First Owner</td>\n",
       "    </tr>\n",
       "    <tr>\n",
       "      <th>4</th>\n",
       "      <td>Honda Amaze VX i-DTEC</td>\n",
       "      <td>2014</td>\n",
       "      <td>450000</td>\n",
       "      <td>141000</td>\n",
       "      <td>Diesel</td>\n",
       "      <td>Individual</td>\n",
       "      <td>Manual</td>\n",
       "      <td>Second Owner</td>\n",
       "    </tr>\n",
       "  </tbody>\n",
       "</table>\n",
       "</div>"
      ],
      "text/plain": [
       "                       name  year  selling_price  km_driven    fuel  \\\n",
       "0             Maruti 800 AC  2007          60000      70000  Petrol   \n",
       "1  Maruti Wagon R LXI Minor  2007         135000      50000  Petrol   \n",
       "2      Hyundai Verna 1.6 SX  2012         600000     100000  Diesel   \n",
       "3    Datsun RediGO T Option  2017         250000      46000  Petrol   \n",
       "4     Honda Amaze VX i-DTEC  2014         450000     141000  Diesel   \n",
       "\n",
       "  seller_type transmission         owner  \n",
       "0  Individual       Manual   First Owner  \n",
       "1  Individual       Manual   First Owner  \n",
       "2  Individual       Manual   First Owner  \n",
       "3  Individual       Manual   First Owner  \n",
       "4  Individual       Manual  Second Owner  "
      ]
     },
     "execution_count": 3,
     "metadata": {},
     "output_type": "execute_result"
    }
   ],
   "source": [
    "data.head()"
   ]
  },
  {
   "cell_type": "code",
   "execution_count": 4,
   "id": "d9e55144-0f19-4e1a-a997-f3ef68c8e3bc",
   "metadata": {},
   "outputs": [
    {
     "data": {
      "text/plain": [
       "(4340, 8)"
      ]
     },
     "execution_count": 4,
     "metadata": {},
     "output_type": "execute_result"
    }
   ],
   "source": [
    "data.shape"
   ]
  },
  {
   "cell_type": "markdown",
   "id": "6508025a-1cff-4c4f-b42f-75f7c715a2a5",
   "metadata": {},
   "source": [
    "## Schritt 2: Daten aufbereiten"
   ]
  },
  {
   "cell_type": "code",
   "execution_count": 5,
   "id": "660055e1-725f-4098-a050-e3d5eb9df131",
   "metadata": {},
   "outputs": [
    {
     "data": {
      "text/plain": [
       "name             0\n",
       "year             0\n",
       "selling_price    0\n",
       "km_driven        0\n",
       "fuel             0\n",
       "seller_type      0\n",
       "transmission     0\n",
       "owner            0\n",
       "dtype: int64"
      ]
     },
     "execution_count": 5,
     "metadata": {},
     "output_type": "execute_result"
    }
   ],
   "source": [
    "data.isnull().sum()"
   ]
  },
  {
   "cell_type": "code",
   "execution_count": 6,
   "id": "03d9e497-8a6c-4a79-9435-62d391a7e8a3",
   "metadata": {},
   "outputs": [],
   "source": [
    "data.drop(['name'],axis=1,inplace=True)"
   ]
  },
  {
   "cell_type": "code",
   "execution_count": 7,
   "id": "89cbc88d-80b2-4698-b03c-3ae673b5755a",
   "metadata": {},
   "outputs": [
    {
     "data": {
      "text/html": [
       "<div>\n",
       "<style scoped>\n",
       "    .dataframe tbody tr th:only-of-type {\n",
       "        vertical-align: middle;\n",
       "    }\n",
       "\n",
       "    .dataframe tbody tr th {\n",
       "        vertical-align: top;\n",
       "    }\n",
       "\n",
       "    .dataframe thead th {\n",
       "        text-align: right;\n",
       "    }\n",
       "</style>\n",
       "<table border=\"1\" class=\"dataframe\">\n",
       "  <thead>\n",
       "    <tr style=\"text-align: right;\">\n",
       "      <th></th>\n",
       "      <th>year</th>\n",
       "      <th>selling_price</th>\n",
       "      <th>km_driven</th>\n",
       "      <th>fuel</th>\n",
       "      <th>seller_type</th>\n",
       "      <th>transmission</th>\n",
       "      <th>owner</th>\n",
       "    </tr>\n",
       "  </thead>\n",
       "  <tbody>\n",
       "    <tr>\n",
       "      <th>0</th>\n",
       "      <td>2007</td>\n",
       "      <td>60000</td>\n",
       "      <td>70000</td>\n",
       "      <td>Petrol</td>\n",
       "      <td>Individual</td>\n",
       "      <td>Manual</td>\n",
       "      <td>First Owner</td>\n",
       "    </tr>\n",
       "    <tr>\n",
       "      <th>1</th>\n",
       "      <td>2007</td>\n",
       "      <td>135000</td>\n",
       "      <td>50000</td>\n",
       "      <td>Petrol</td>\n",
       "      <td>Individual</td>\n",
       "      <td>Manual</td>\n",
       "      <td>First Owner</td>\n",
       "    </tr>\n",
       "    <tr>\n",
       "      <th>2</th>\n",
       "      <td>2012</td>\n",
       "      <td>600000</td>\n",
       "      <td>100000</td>\n",
       "      <td>Diesel</td>\n",
       "      <td>Individual</td>\n",
       "      <td>Manual</td>\n",
       "      <td>First Owner</td>\n",
       "    </tr>\n",
       "    <tr>\n",
       "      <th>3</th>\n",
       "      <td>2017</td>\n",
       "      <td>250000</td>\n",
       "      <td>46000</td>\n",
       "      <td>Petrol</td>\n",
       "      <td>Individual</td>\n",
       "      <td>Manual</td>\n",
       "      <td>First Owner</td>\n",
       "    </tr>\n",
       "    <tr>\n",
       "      <th>4</th>\n",
       "      <td>2014</td>\n",
       "      <td>450000</td>\n",
       "      <td>141000</td>\n",
       "      <td>Diesel</td>\n",
       "      <td>Individual</td>\n",
       "      <td>Manual</td>\n",
       "      <td>Second Owner</td>\n",
       "    </tr>\n",
       "  </tbody>\n",
       "</table>\n",
       "</div>"
      ],
      "text/plain": [
       "   year  selling_price  km_driven    fuel seller_type transmission  \\\n",
       "0  2007          60000      70000  Petrol  Individual       Manual   \n",
       "1  2007         135000      50000  Petrol  Individual       Manual   \n",
       "2  2012         600000     100000  Diesel  Individual       Manual   \n",
       "3  2017         250000      46000  Petrol  Individual       Manual   \n",
       "4  2014         450000     141000  Diesel  Individual       Manual   \n",
       "\n",
       "          owner  \n",
       "0   First Owner  \n",
       "1   First Owner  \n",
       "2   First Owner  \n",
       "3   First Owner  \n",
       "4  Second Owner  "
      ]
     },
     "execution_count": 7,
     "metadata": {},
     "output_type": "execute_result"
    }
   ],
   "source": [
    "data.head()"
   ]
  },
  {
   "cell_type": "code",
   "execution_count": 8,
   "id": "99eb364e-522f-4344-8e7b-0ff327c7c91c",
   "metadata": {},
   "outputs": [
    {
     "data": {
      "text/plain": [
       "(4340, 7)"
      ]
     },
     "execution_count": 8,
     "metadata": {},
     "output_type": "execute_result"
    }
   ],
   "source": [
    "data.shape"
   ]
  },
  {
   "cell_type": "code",
   "execution_count": 9,
   "id": "a6b80393-c1dc-4af2-9a23-d713d7a8c11b",
   "metadata": {},
   "outputs": [
    {
     "data": {
      "text/plain": [
       "array([1992, 1995, 1996, 1997, 1998, 1999, 2000, 2001, 2002, 2003, 2004,\n",
       "       2005, 2006, 2007, 2008, 2009, 2010, 2011, 2012, 2013, 2014, 2015,\n",
       "       2016, 2017, 2018, 2019, 2020])"
      ]
     },
     "execution_count": 9,
     "metadata": {},
     "output_type": "execute_result"
    }
   ],
   "source": [
    "np.sort(data[\"year\"].unique())"
   ]
  },
  {
   "cell_type": "code",
   "execution_count": 10,
   "id": "78efc2b3-1be3-4351-8e32-216313f37c53",
   "metadata": {},
   "outputs": [
    {
     "data": {
      "text/plain": [
       "<AxesSubplot:xlabel='year', ylabel='count'>"
      ]
     },
     "execution_count": 10,
     "metadata": {},
     "output_type": "execute_result"
    },
    {
     "data": {
      "image/png": "[encoded data removed]",
      "text/plain": [
       "<Figure size 1008x576 with 1 Axes>"
      ]
     },
     "metadata": {
      "needs_background": "light"
     },
     "output_type": "display_data"
    }
   ],
   "source": [
    "plt.figure(figsize=(14,8))\n",
    "sns.countplot(x=data['year'])"
   ]
  },
  {
   "cell_type": "code",
   "execution_count": 11,
   "id": "6c2b6772-4c9b-454c-a565-bfea4dc0fc84",
   "metadata": {},
   "outputs": [
    {
     "name": "stdout",
     "output_type": "stream",
     "text": [
      "Fuel unique:  ['Petrol' 'Diesel' 'CNG' 'LPG' 'Electric']\n",
      "Seller unique:  ['Individual' 'Dealer' 'Trustmark Dealer']\n",
      "Transmission:  ['Manual' 'Automatic']\n",
      "Owner:  ['First Owner' 'Second Owner' 'Fourth & Above Owner' 'Third Owner'\n",
      " 'Test Drive Car']\n"
     ]
    }
   ],
   "source": [
    "print(\"Fuel unique: \", data[\"fuel\"].unique())\n",
    "print(\"Seller unique: \", data[\"seller_type\"].unique())\n",
    "print(\"Transmission: \", data[\"transmission\"].unique())\n",
    "print(\"Owner: \", data[\"owner\"].unique())"
   ]
  },
  {
   "cell_type": "code",
   "execution_count": 12,
   "id": "279a25ba-3054-45ea-af1b-852d8a6c87e7",
   "metadata": {},
   "outputs": [
    {
     "data": {
      "text/plain": [
       "<AxesSubplot:xlabel='fuel', ylabel='selling_price'>"
      ]
     },
     "execution_count": 12,
     "metadata": {},
     "output_type": "execute_result"
    },
    {
     "data": {
      "image/png": "[encoded data removed]",
      "text/plain": [
       "<Figure size 1008x576 with 1 Axes>"
      ]
     },
     "metadata": {
      "needs_background": "light"
     },
     "output_type": "display_data"
    }
   ],
   "source": [
    "plt.figure(figsize=(14,8))\n",
    "sns.barplot(x=data['fuel'], y=data['selling_price'])"
   ]
  },
  {
   "cell_type": "code",
   "execution_count": 13,
   "id": "564c54d4-8444-4b32-acde-f449960df2e1",
   "metadata": {},
   "outputs": [
    {
     "data": {
      "text/html": [
       "<div>\n",
       "<style scoped>\n",
       "    .dataframe tbody tr th:only-of-type {\n",
       "        vertical-align: middle;\n",
       "    }\n",
       "\n",
       "    .dataframe tbody tr th {\n",
       "        vertical-align: top;\n",
       "    }\n",
       "\n",
       "    .dataframe thead th {\n",
       "        text-align: right;\n",
       "    }\n",
       "</style>\n",
       "<table border=\"1\" class=\"dataframe\">\n",
       "  <thead>\n",
       "    <tr style=\"text-align: right;\">\n",
       "      <th></th>\n",
       "      <th>year</th>\n",
       "      <th>selling_price</th>\n",
       "      <th>km_driven</th>\n",
       "      <th>fuel</th>\n",
       "      <th>seller_type</th>\n",
       "      <th>transmission</th>\n",
       "      <th>owner</th>\n",
       "    </tr>\n",
       "  </thead>\n",
       "  <tbody>\n",
       "    <tr>\n",
       "      <th>4145</th>\n",
       "      <td>2006</td>\n",
       "      <td>310000</td>\n",
       "      <td>62000</td>\n",
       "      <td>Electric</td>\n",
       "      <td>Dealer</td>\n",
       "      <td>Automatic</td>\n",
       "      <td>Second Owner</td>\n",
       "    </tr>\n",
       "  </tbody>\n",
       "</table>\n",
       "</div>"
      ],
      "text/plain": [
       "      year  selling_price  km_driven      fuel seller_type transmission  \\\n",
       "4145  2006         310000      62000  Electric      Dealer    Automatic   \n",
       "\n",
       "             owner  \n",
       "4145  Second Owner  "
      ]
     },
     "execution_count": 13,
     "metadata": {},
     "output_type": "execute_result"
    }
   ],
   "source": [
    "data.loc[data['fuel'] == 'Electric']"
   ]
  },
  {
   "cell_type": "code",
   "execution_count": 14,
   "id": "0ab7119e-26f5-49b6-bfdd-1f3f4d2820ce",
   "metadata": {},
   "outputs": [
    {
     "data": {
      "text/plain": [
       "<AxesSubplot:xlabel='fuel', ylabel='count'>"
      ]
     },
     "execution_count": 14,
     "metadata": {},
     "output_type": "execute_result"
    },
    {
     "data": {
      "image/png": "[encoded data removed]",
      "text/plain": [
       "<Figure size 1008x576 with 1 Axes>"
      ]
     },
     "metadata": {
      "needs_background": "light"
     },
     "output_type": "display_data"
    }
   ],
   "source": [
    "plt.figure(figsize=(14,8))\n",
    "sns.countplot(x=data['fuel'])"
   ]
  },
  {
   "cell_type": "code",
   "execution_count": 15,
   "id": "84dee9da-c053-4e11-a296-a4eeb7d695a2",
   "metadata": {},
   "outputs": [],
   "source": [
    "# fuel\n",
    "data['fuel'] = data['fuel'].map({\n",
    "    'LPG':1,\n",
    "    'CNG':2,\n",
    "    'Electric': 3,\n",
    "    'Petrol': 4,\n",
    "    'Diesel': 5\n",
    "})\n",
    "\n",
    "# seller_type\n",
    "data['seller_type'] = data['seller_type'].map({\n",
    "    'Individual': 1,\n",
    "    'Dealer': 2,\n",
    "    'Trustmark Dealer': 3\n",
    "})\n",
    "\n",
    "# transmission\n",
    "data['transmission'] = data['transmission'].map({\n",
    "    'Manual': 1,\n",
    "    'Automatic': 2\n",
    "})\n",
    "\n",
    "# owner\n",
    "data['owner'] = data['owner'].map({\n",
    "    'Test Drive Car': 1,\n",
    "    'First Owner': 2,\n",
    "    'Second Owner': 3,\n",
    "    'Third Owner': 4,\n",
    "    'Fourth & Above Owner': 5\n",
    "})"
   ]
  },
  {
   "cell_type": "code",
   "execution_count": 16,
   "id": "fc972940-fe28-4675-8475-5c66c47e4985",
   "metadata": {},
   "outputs": [
    {
     "data": {
      "text/html": [
       "<div>\n",
       "<style scoped>\n",
       "    .dataframe tbody tr th:only-of-type {\n",
       "        vertical-align: middle;\n",
       "    }\n",
       "\n",
       "    .dataframe tbody tr th {\n",
       "        vertical-align: top;\n",
       "    }\n",
       "\n",
       "    .dataframe thead th {\n",
       "        text-align: right;\n",
       "    }\n",
       "</style>\n",
       "<table border=\"1\" class=\"dataframe\">\n",
       "  <thead>\n",
       "    <tr style=\"text-align: right;\">\n",
       "      <th></th>\n",
       "      <th>year</th>\n",
       "      <th>selling_price</th>\n",
       "      <th>km_driven</th>\n",
       "      <th>fuel</th>\n",
       "      <th>seller_type</th>\n",
       "      <th>transmission</th>\n",
       "      <th>owner</th>\n",
       "    </tr>\n",
       "  </thead>\n",
       "  <tbody>\n",
       "    <tr>\n",
       "      <th>0</th>\n",
       "      <td>2007</td>\n",
       "      <td>60000</td>\n",
       "      <td>70000</td>\n",
       "      <td>4</td>\n",
       "      <td>1</td>\n",
       "      <td>1</td>\n",
       "      <td>2</td>\n",
       "    </tr>\n",
       "    <tr>\n",
       "      <th>1</th>\n",
       "      <td>2007</td>\n",
       "      <td>135000</td>\n",
       "      <td>50000</td>\n",
       "      <td>4</td>\n",
       "      <td>1</td>\n",
       "      <td>1</td>\n",
       "      <td>2</td>\n",
       "    </tr>\n",
       "    <tr>\n",
       "      <th>2</th>\n",
       "      <td>2012</td>\n",
       "      <td>600000</td>\n",
       "      <td>100000</td>\n",
       "      <td>5</td>\n",
       "      <td>1</td>\n",
       "      <td>1</td>\n",
       "      <td>2</td>\n",
       "    </tr>\n",
       "    <tr>\n",
       "      <th>3</th>\n",
       "      <td>2017</td>\n",
       "      <td>250000</td>\n",
       "      <td>46000</td>\n",
       "      <td>4</td>\n",
       "      <td>1</td>\n",
       "      <td>1</td>\n",
       "      <td>2</td>\n",
       "    </tr>\n",
       "    <tr>\n",
       "      <th>4</th>\n",
       "      <td>2014</td>\n",
       "      <td>450000</td>\n",
       "      <td>141000</td>\n",
       "      <td>5</td>\n",
       "      <td>1</td>\n",
       "      <td>1</td>\n",
       "      <td>3</td>\n",
       "    </tr>\n",
       "  </tbody>\n",
       "</table>\n",
       "</div>"
      ],
      "text/plain": [
       "   year  selling_price  km_driven  fuel  seller_type  transmission  owner\n",
       "0  2007          60000      70000     4            1             1      2\n",
       "1  2007         135000      50000     4            1             1      2\n",
       "2  2012         600000     100000     5            1             1      2\n",
       "3  2017         250000      46000     4            1             1      2\n",
       "4  2014         450000     141000     5            1             1      3"
      ]
     },
     "execution_count": 16,
     "metadata": {},
     "output_type": "execute_result"
    }
   ],
   "source": [
    "data.head()"
   ]
  },
  {
   "cell_type": "code",
   "execution_count": 17,
   "id": "d1830275-a900-456f-9bf9-43a35a7ded50",
   "metadata": {},
   "outputs": [
    {
     "data": {
      "text/html": [
       "<div>\n",
       "<style scoped>\n",
       "    .dataframe tbody tr th:only-of-type {\n",
       "        vertical-align: middle;\n",
       "    }\n",
       "\n",
       "    .dataframe tbody tr th {\n",
       "        vertical-align: top;\n",
       "    }\n",
       "\n",
       "    .dataframe thead th {\n",
       "        text-align: right;\n",
       "    }\n",
       "</style>\n",
       "<table border=\"1\" class=\"dataframe\">\n",
       "  <thead>\n",
       "    <tr style=\"text-align: right;\">\n",
       "      <th></th>\n",
       "      <th>year</th>\n",
       "      <th>selling_price</th>\n",
       "      <th>km_driven</th>\n",
       "      <th>fuel</th>\n",
       "      <th>seller_type</th>\n",
       "      <th>transmission</th>\n",
       "      <th>owner</th>\n",
       "    </tr>\n",
       "  </thead>\n",
       "  <tbody>\n",
       "    <tr>\n",
       "      <th>0</th>\n",
       "      <td>0.535714</td>\n",
       "      <td>0.004505</td>\n",
       "      <td>0.086783</td>\n",
       "      <td>0.75</td>\n",
       "      <td>0.0</td>\n",
       "      <td>0.0</td>\n",
       "      <td>0.25</td>\n",
       "    </tr>\n",
       "    <tr>\n",
       "      <th>1</th>\n",
       "      <td>0.535714</td>\n",
       "      <td>0.012950</td>\n",
       "      <td>0.061988</td>\n",
       "      <td>0.75</td>\n",
       "      <td>0.0</td>\n",
       "      <td>0.0</td>\n",
       "      <td>0.25</td>\n",
       "    </tr>\n",
       "    <tr>\n",
       "      <th>2</th>\n",
       "      <td>0.714286</td>\n",
       "      <td>0.065315</td>\n",
       "      <td>0.123976</td>\n",
       "      <td>1.00</td>\n",
       "      <td>0.0</td>\n",
       "      <td>0.0</td>\n",
       "      <td>0.25</td>\n",
       "    </tr>\n",
       "    <tr>\n",
       "      <th>3</th>\n",
       "      <td>0.892857</td>\n",
       "      <td>0.025901</td>\n",
       "      <td>0.057028</td>\n",
       "      <td>0.75</td>\n",
       "      <td>0.0</td>\n",
       "      <td>0.0</td>\n",
       "      <td>0.25</td>\n",
       "    </tr>\n",
       "    <tr>\n",
       "      <th>4</th>\n",
       "      <td>0.785714</td>\n",
       "      <td>0.048423</td>\n",
       "      <td>0.174807</td>\n",
       "      <td>1.00</td>\n",
       "      <td>0.0</td>\n",
       "      <td>0.0</td>\n",
       "      <td>0.50</td>\n",
       "    </tr>\n",
       "  </tbody>\n",
       "</table>\n",
       "</div>"
      ],
      "text/plain": [
       "       year  selling_price  km_driven  fuel  seller_type  transmission  owner\n",
       "0  0.535714       0.004505   0.086783  0.75          0.0           0.0   0.25\n",
       "1  0.535714       0.012950   0.061988  0.75          0.0           0.0   0.25\n",
       "2  0.714286       0.065315   0.123976  1.00          0.0           0.0   0.25\n",
       "3  0.892857       0.025901   0.057028  0.75          0.0           0.0   0.25\n",
       "4  0.785714       0.048423   0.174807  1.00          0.0           0.0   0.50"
      ]
     },
     "execution_count": 17,
     "metadata": {},
     "output_type": "execute_result"
    }
   ],
   "source": [
    "min_max = MinMaxScaler()\n",
    "data_scaled=pd.DataFrame(min_max.fit_transform(data), columns=data.columns)\n",
    "\n",
    "data_scaled.head()"
   ]
  },
  {
   "cell_type": "code",
   "execution_count": 18,
   "id": "90451531-0b63-40ae-9160-8333ae9f030e",
   "metadata": {},
   "outputs": [
    {
     "data": {
      "text/html": [
       "<div>\n",
       "<style scoped>\n",
       "    .dataframe tbody tr th:only-of-type {\n",
       "        vertical-align: middle;\n",
       "    }\n",
       "\n",
       "    .dataframe tbody tr th {\n",
       "        vertical-align: top;\n",
       "    }\n",
       "\n",
       "    .dataframe thead th {\n",
       "        text-align: right;\n",
       "    }\n",
       "</style>\n",
       "<table border=\"1\" class=\"dataframe\">\n",
       "  <thead>\n",
       "    <tr style=\"text-align: right;\">\n",
       "      <th></th>\n",
       "      <th>selling_price</th>\n",
       "      <th>year</th>\n",
       "      <th>km_driven</th>\n",
       "      <th>fuel</th>\n",
       "      <th>seller_type</th>\n",
       "      <th>transmission</th>\n",
       "      <th>owner</th>\n",
       "    </tr>\n",
       "  </thead>\n",
       "  <tbody>\n",
       "    <tr>\n",
       "      <th>0</th>\n",
       "      <td>0.004505</td>\n",
       "      <td>0.535714</td>\n",
       "      <td>0.086783</td>\n",
       "      <td>0.75</td>\n",
       "      <td>0.0</td>\n",
       "      <td>0.0</td>\n",
       "      <td>0.25</td>\n",
       "    </tr>\n",
       "    <tr>\n",
       "      <th>1</th>\n",
       "      <td>0.012950</td>\n",
       "      <td>0.535714</td>\n",
       "      <td>0.061988</td>\n",
       "      <td>0.75</td>\n",
       "      <td>0.0</td>\n",
       "      <td>0.0</td>\n",
       "      <td>0.25</td>\n",
       "    </tr>\n",
       "    <tr>\n",
       "      <th>2</th>\n",
       "      <td>0.065315</td>\n",
       "      <td>0.714286</td>\n",
       "      <td>0.123976</td>\n",
       "      <td>1.00</td>\n",
       "      <td>0.0</td>\n",
       "      <td>0.0</td>\n",
       "      <td>0.25</td>\n",
       "    </tr>\n",
       "    <tr>\n",
       "      <th>3</th>\n",
       "      <td>0.025901</td>\n",
       "      <td>0.892857</td>\n",
       "      <td>0.057028</td>\n",
       "      <td>0.75</td>\n",
       "      <td>0.0</td>\n",
       "      <td>0.0</td>\n",
       "      <td>0.25</td>\n",
       "    </tr>\n",
       "    <tr>\n",
       "      <th>4</th>\n",
       "      <td>0.048423</td>\n",
       "      <td>0.785714</td>\n",
       "      <td>0.174807</td>\n",
       "      <td>1.00</td>\n",
       "      <td>0.0</td>\n",
       "      <td>0.0</td>\n",
       "      <td>0.50</td>\n",
       "    </tr>\n",
       "  </tbody>\n",
       "</table>\n",
       "</div>"
      ],
      "text/plain": [
       "   selling_price      year  km_driven  fuel  seller_type  transmission  owner\n",
       "0       0.004505  0.535714   0.086783  0.75          0.0           0.0   0.25\n",
       "1       0.012950  0.535714   0.061988  0.75          0.0           0.0   0.25\n",
       "2       0.065315  0.714286   0.123976  1.00          0.0           0.0   0.25\n",
       "3       0.025901  0.892857   0.057028  0.75          0.0           0.0   0.25\n",
       "4       0.048423  0.785714   0.174807  1.00          0.0           0.0   0.50"
      ]
     },
     "execution_count": 18,
     "metadata": {},
     "output_type": "execute_result"
    }
   ],
   "source": [
    "data_scaled = data_scaled.reindex(columns=['selling_price','year','km_driven','fuel','seller_type','transmission','owner'])\n",
    "data_scaled.head()"
   ]
  },
  {
   "cell_type": "code",
   "execution_count": 19,
   "id": "b7eb9aa5-0b22-4263-ab55-ca7705c38879",
   "metadata": {},
   "outputs": [],
   "source": [
    "# Aufteilung in Traings- und Testdaten (80:20)\n",
    "training_data = data_scaled.sample(frac=0.8,random_state=1)\n",
    "test_data = data_scaled.drop(training_data.index)"
   ]
  },
  {
   "cell_type": "markdown",
   "id": "28f159fa-a15f-423b-ac3f-ecb770efc29b",
   "metadata": {},
   "source": [
    "## Schritt 3: Model trainieren"
   ]
  },
  {
   "cell_type": "code",
   "execution_count": 20,
   "id": "f6464971-89c4-4591-add2-8b71f5ea6a3f",
   "metadata": {},
   "outputs": [],
   "source": [
    "kf = KFold(n_splits=10)\n",
    "\n",
    "lin_reg_models = []\n",
    "val_indexes = []\n",
    "for train_index, val_index in kf.split(training_data):\n",
    "    model = LinearRegression().fit(training_data.iloc[train_index, 1:], training_data.iloc[train_index, 0])\n",
    "\n",
    "    lin_reg_models.append(model)\n",
    "    val_indexes.append(val_index)"
   ]
  },
  {
   "cell_type": "markdown",
   "id": "862afdb5-84b0-4037-abdf-38ca104f9a6b",
   "metadata": {},
   "source": [
    "## Schritt 4: Model auswerten"
   ]
  },
  {
   "cell_type": "code",
   "execution_count": 21,
   "id": "5e6b8600-33dc-4a3d-a0be-40c1aa86228d",
   "metadata": {},
   "outputs": [
    {
     "name": "stdout",
     "output_type": "stream",
     "text": [
      "Datensatz 0 Score: 0.5074757071253542\n",
      "Datensatz 1 Score: 0.5132381942032378\n",
      "Datensatz 2 Score: 0.4283218313247753\n",
      "Datensatz 3 Score: 0.3831328643560551\n",
      "Datensatz 4 Score: 0.4974559883088048\n",
      "Datensatz 5 Score: 0.4176233240477475\n",
      "Datensatz 6 Score: 0.361968897597185\n",
      "Datensatz 7 Score: 0.42933534288857544\n",
      "Datensatz 8 Score: 0.39178360109292454\n",
      "Datensatz 9 Score: 0.4082324346269862\n"
     ]
    }
   ],
   "source": [
    "i=0\n",
    "for model, val_index in zip(lin_reg_models, val_indexes):\n",
    "    print(\"Datensatz\", i, \"Score:\", model.score(training_data.iloc[val_index, 1:], training_data.iloc[val_index, 0]))\n",
    "    i=i+1\n",
    "    "
   ]
  },
  {
   "cell_type": "markdown",
   "id": "f91fbd51-7a7d-463c-a726-c3f2b6140ac1",
   "metadata": {},
   "source": [
    "## Schritt 5: Parametertuning\n",
    "\n",
    "Wird in diesem Beispiel übersprungen."
   ]
  },
  {
   "cell_type": "markdown",
   "id": "f5d20794-bb3f-4c45-b7f2-07526282f5ed",
   "metadata": {},
   "source": [
    "## Schritt 6: Testdaten"
   ]
  },
  {
   "cell_type": "code",
   "execution_count": 22,
   "id": "798ea4c5-dfa7-4afa-83e2-5e48afc1f849",
   "metadata": {},
   "outputs": [
    {
     "name": "stdout",
     "output_type": "stream",
     "text": [
      "Score: 0.5011944988645847\n"
     ]
    }
   ],
   "source": [
    "final_model = LinearRegression().fit(training_data.iloc[:, 1:], training_data.iloc[:, 0])\n",
    "\n",
    "print(\"Score:\", final_model.score(test_data.iloc[:, 1:], test_data.iloc[:, 0]))"
   ]
  },
  {
   "cell_type": "code",
   "execution_count": null,
   "id": "a680e06c-a366-4019-8af7-f1030886deec",
   "metadata": {},
   "outputs": [],
   "source": []
  }
 ],
 "metadata": {
  "kernelspec": {
   "display_name": "Python 3 (ipykernel)",
   "language": "python",
   "name": "python3"
  },
  "language_info": {
   "codemirror_mode": {
    "name": "ipython",
    "version": 3
   },
   "file_extension": ".py",
   "mimetype": "text/x-python",
   "name": "python",
   "nbconvert_exporter": "python",
   "pygments_lexer": "ipython3",
   "version": "3.8.10"
  }
 },
 "nbformat": 4,
 "nbformat_minor": 5
}
